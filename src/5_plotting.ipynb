{
 "cells": [
  {
   "cell_type": "code",
   "execution_count": 1,
   "metadata": {},
   "outputs": [],
   "source": [
    "import os\n",
    "import pybedtools\n",
    "\n",
    "import numpy as np\n",
    "import pandas as pd\n",
    "import seaborn as sns\n",
    "import scipy.stats as stats\n",
    "import matplotlib.pyplot as plt\n",
    "\n",
    "from scipy.stats import mannwhitneyu"
   ]
  },
  {
   "cell_type": "code",
   "execution_count": 2,
   "metadata": {},
   "outputs": [
    {
     "data": {
      "text/plain": [
       "'/NFS4/storage/yz2676/data/STARR-seq/src'"
      ]
     },
     "execution_count": 2,
     "metadata": {},
     "output_type": "execute_result"
    }
   ],
   "source": [
    "os.getcwd()"
   ]
  },
  {
   "cell_type": "code",
   "execution_count": 3,
   "metadata": {},
   "outputs": [],
   "source": [
    "DESIGN_DIR=\"../output/Junke_architecture/deep-ATAC-STARR_5\"\n",
    "FULL=\"distal.full\"\n",
    "PAUSE_DOWN=\"distal.pause.down\"\n",
    "PAUSE_UP=\"distal.pause.up\"\n",
    "TATA_DOWN=\"distal.tata.down\"\n",
    "TATA_UP=\"distal.tata.up\"\n",
    "\n",
    "DESEQ_DIR=f\"{DESIGN_DIR}/DESeq2/\""
   ]
  },
  {
   "cell_type": "markdown",
   "metadata": {},
   "source": [
    "### Presence of general motifs in TREs"
   ]
  },
  {
   "cell_type": "code",
   "execution_count": 4,
   "metadata": {},
   "outputs": [],
   "source": [
    "full_lfc = pd.read_csv(f\"{DESEQ_DIR}/{FULL}_lfc.txt\", sep=\"\\t\", header=0)\n",
    "pause_down_lfc = pd.read_csv(f\"{DESEQ_DIR}/{PAUSE_DOWN}_lfc.txt\", sep=\"\\t\", header=0)\n",
    "pause_up_lfc = pd.read_csv(f\"{DESEQ_DIR}/{PAUSE_UP}_lfc.txt\", sep=\"\\t\", header=0)\n",
    "tata_down_lfc = pd.read_csv(f\"{DESEQ_DIR}/{TATA_DOWN}_lfc.txt\", sep=\"\\t\", header=0)\n",
    "tata_up_lfc = pd.read_csv(f\"{DESEQ_DIR}/{TATA_UP}_lfc.txt\", sep=\"\\t\", header=0)"
   ]
  },
  {
   "cell_type": "code",
   "execution_count": 5,
   "metadata": {},
   "outputs": [],
   "source": [
    "### Get the corresponding full and partial elements\n",
    "full_pause_lfc = full_lfc[(full_lfc[\"enhancer\"]==True) &\n",
    "                          ((full_lfc[\"name\"].isin(pause_down_lfc[\"name\"])) |\n",
    "                          (full_lfc[\"name\"].isin(pause_up_lfc[\"name\"])))]\n",
    "pause_down_lfc = pause_down_lfc[pause_down_lfc[\"name\"].isin(full_pause_lfc[\"name\"])]\n",
    "pause_up_lfc = pause_up_lfc[pause_up_lfc[\"name\"].isin(full_pause_lfc[\"name\"])]\n",
    "pause_lfc = pd.concat([full_pause_lfc, pause_down_lfc, pause_up_lfc])\n",
    "\n",
    "full_tata_lfc = full_lfc[(full_lfc[\"enhancer\"]==True) &\n",
    "                            ((full_lfc[\"name\"].isin(tata_down_lfc[\"name\"])) |\n",
    "                            (full_lfc[\"name\"].isin(tata_up_lfc[\"name\"])))]\n",
    "tata_down_lfc = tata_down_lfc[tata_down_lfc[\"name\"].isin(full_tata_lfc[\"name\"])]\n",
    "tata_up_lfc = tata_up_lfc[tata_up_lfc[\"name\"].isin(full_tata_lfc[\"name\"])]\n",
    "tata_lfc = pd.concat([full_tata_lfc, tata_down_lfc, tata_up_lfc])"
   ]
  },
  {
   "cell_type": "code",
   "execution_count": 6,
   "metadata": {},
   "outputs": [],
   "source": [
    "def calculate_mean_decrease_btw_groups(df, group_col):\n",
    "    output = {}\n",
    "    full = df[df[group_col] == \"Others\"].reset_index(drop=True)\n",
    "    partial = df[df[group_col] != \"Others\"].reset_index(drop=True)\n",
    "\n",
    "    for _, row in partial.iterrows():\n",
    "        full_index = row[\"name\"]\n",
    "        group = row[group_col]\n",
    "        activity = row[\"log2FC\"] - full[full[\"name\"] == full_index][\"log2FC\"].values[0]\n",
    "        \n",
    "        if group not in output:\n",
    "            output[group] = [activity]\n",
    "        else:\n",
    "            output[group].append(activity)\n",
    "\n",
    "    return output"
   ]
  },
  {
   "cell_type": "code",
   "execution_count": 7,
   "metadata": {},
   "outputs": [],
   "source": [
    "tata = calculate_mean_decrease_btw_groups(tata_lfc, \"Groups\")\n",
    "pause = calculate_mean_decrease_btw_groups(pause_lfc, \"Groups\")"
   ]
  },
  {
   "cell_type": "code",
   "execution_count": 8,
   "metadata": {},
   "outputs": [
    {
     "data": {
      "text/plain": [
       "RanksumsResult(statistic=1.021376461713902, pvalue=0.30707611289773684)"
      ]
     },
     "execution_count": 8,
     "metadata": {},
     "output_type": "execute_result"
    }
   ],
   "source": [
    "no_tss = [item for k, sublist in tata.items() if k != \"StrongTATA\" for item in sublist]\n",
    "have_tss = tata[\"StrongTATA\"]\n",
    "\n",
    "n_have = len(have_tss)\n",
    "n_no = len(no_tss)\n",
    "\n",
    "colors = [\"#DCE2E5\", \"#FFD6E8\"]\n",
    "\n",
    "plt.figure(figsize=(6,5))\n",
    "sns.boxplot([no_tss, have_tss],width=0.6,patch_artist=True, showfliers=False,\n",
    "            palette=colors,medianprops=dict(color=\"black\"))\n",
    "\n",
    "ax = plt.gca()  # Get current axes\n",
    "ax.spines['right'].set_visible(False)\n",
    "ax.spines['top'].set_visible(False)\n",
    "\n",
    "plt.ylabel(\"Change in enhancer activity (\\u0394log2FC)\", fontsize=14)\n",
    "plt.xticks([0,1], ['Inactive TATA\\n(n='+str(n_no)+\")\", 'Active TATA\\n(n='+str(n_have)+\")\"], fontsize=12)\n",
    "plt.grid(False)\n",
    "tata_out_path = f\"{DESIGN_DIR}/Visualization/tata_presence.pdf\"\n",
    "plt.savefig(tata_out_path, bbox_inches='tight', dpi=300)\n",
    "plt.close()\n",
    "p_value_tss = stats.ranksums(have_tss, no_tss)\n",
    "p_value_tss"
   ]
  },
  {
   "cell_type": "code",
   "execution_count": 9,
   "metadata": {},
   "outputs": [
    {
     "data": {
      "text/plain": [
       "RanksumsResult(statistic=-0.9357545396969165, pvalue=0.3493995825648861)"
      ]
     },
     "execution_count": 9,
     "metadata": {},
     "output_type": "execute_result"
    }
   ],
   "source": [
    "no = [item for k, sublist in pause.items() if k != \"StrongDPR\" for item in sublist]\n",
    "good = pause[\"StrongDPR\"]\n",
    "\n",
    "n_good = len(good)\n",
    "n_no = len(no)\n",
    "\n",
    "colors = [\"#DCE2E5\", \"#CCC7FF\"]\n",
    "\n",
    "plt.figure(figsize=(6,5))\n",
    "sns.boxplot([no, good],width=0.6,patch_artist=True, showfliers=False, palette=colors,\n",
    "            medianprops=dict(color=\"black\"))\n",
    "\n",
    "ax = plt.gca()  # Get current axes\n",
    "ax.spines['right'].set_visible(False)\n",
    "ax.spines['top'].set_visible(False)\n",
    "\n",
    "plt.ylabel(\"Change in enhancer activity (\\u0394log2FC)\", fontsize=14)\n",
    "plt.xticks([0, 1], ['Inactive DPR\\n(n='+str(n_no)+\")\", 'Active DPR\\n(n='+str(n_good)+\")\"], fontsize=12)\n",
    "plt.grid(False)\n",
    "dpr_out_path = f\"{DESIGN_DIR}/Visualization/dpr_presence.pdf\"\n",
    "plt.savefig(dpr_out_path, bbox_inches='tight', dpi=300)\n",
    "plt.close()\n",
    "p_value_ps = stats.ranksums(good, no)\n",
    "p_value_ps"
   ]
  },
  {
   "cell_type": "markdown",
   "metadata": {},
   "source": [
    "### Compare to negative controls (STARR-active regions)"
   ]
  },
  {
   "cell_type": "code",
   "execution_count": 10,
   "metadata": {},
   "outputs": [
    {
     "name": "stdout",
     "output_type": "stream",
     "text": [
      "Full pause length: 312.13793103448273\n",
      "Partial pause length: 245.6\n",
      "Full tata length: 351.72\n",
      "Partial tata length: 235.77142857142857\n"
     ]
    }
   ],
   "source": [
    "average_full_pause_length = (full_pause_lfc[\"end\"] - full_pause_lfc[\"start\"]).mean()\n",
    "partial_pause = pd.concat([pause_down_lfc, pause_up_lfc])\n",
    "average_pause_length = (partial_pause[\"end\"] - partial_pause[\"start\"]).mean()\n",
    "\n",
    "average_full_tata_length = (full_tata_lfc[\"end\"] - full_tata_lfc[\"start\"]).mean()\n",
    "average_full_tata_length\n",
    "partial_tata = pd.concat([tata_down_lfc, tata_up_lfc])\n",
    "average_tata_length = (partial_tata[\"end\"] - partial_tata[\"start\"]).mean()\n",
    "\n",
    "print(f\"Full pause length: {average_full_pause_length}\\n\\\n",
    "Partial pause length: {average_pause_length}\\n\\\n",
    "Full tata length: {average_full_tata_length}\\n\\\n",
    "Partial tata length: {average_tata_length}\")"
   ]
  },
  {
   "cell_type": "code",
   "execution_count": null,
   "metadata": {},
   "outputs": [],
   "source": [
    "DNA_path = \"/fs/cbsuhy01/storage/jz855/STARR_seq_dataset/deep_ATAC_STARR/processing_data_v1/out_DNA_no_UMI/\"\n",
    "RNA_path = \"/fs/cbsuhy01/storage/jz855/STARR_seq_dataset/deep_ATAC_STARR/processing_data_v1/out_RNA_with_UMI/\"\n",
    "dnas = 6\n",
    "rnas = 4\n",
    "dna_umi = False\n",
    "rna_umi = True"
   ]
  },
  {
   "cell_type": "code",
   "execution_count": null,
   "metadata": {},
   "outputs": [],
   "source": [
    "file_list = []\n",
    "for dna_idx in range(1, dnas + 1):\n",
    "    dna_raw_count_path = DNA_path + f\"DNA{dna_idx}/all/binned_frag_count_binSize_50.bed\"\n",
    "    file_list.append(dna_raw_count_path)\n",
    "    \n",
    "for rna_idx in range(1, rnas + 1):\n",
    "    rna_paths = {\n",
    "        1: \"RNA1/all/\",\n",
    "        2: \"corrected_bam/RNA1/all/\",\n",
    "        3: \"RNA3/all/\",\n",
    "        4: \"corrected_bam_RNA4/RNA1/all/\"\n",
    "    }\n",
    "    rna_raw_count_path = RNA_path + rna_paths.get(rna_idx) + \"binned_frag_count_binSize_50.bed\"\n",
    "    file_list.append(rna_raw_count_path)"
   ]
  },
  {
   "cell_type": "code",
   "execution_count": null,
   "metadata": {},
   "outputs": [],
   "source": [
    "from functools import reduce\n",
    "\n",
    "processed_dfs = []\n",
    "for idx, filepath in enumerate(file_list):\n",
    "    print(f\"Reading file: {filepath}\")\n",
    "    file = pybedtools.BedTool(filepath).to_dataframe(disable_auto_names=True, header=None)\n",
    "    file = file.rename(columns={4: f\"value_{idx}\"})\n",
    "    processed_dfs.append(file)\n",
    "\n",
    "keep_cols = [0, 1, 2, 3]\n",
    "\n",
    "def merge_strategy(left, right):\n",
    "    return pd.merge(\n",
    "        left,\n",
    "        right,\n",
    "        on=keep_cols,\n",
    "        how='outer'\n",
    "    ).fillna(0)"
   ]
  },
  {
   "cell_type": "code",
   "execution_count": null,
   "metadata": {},
   "outputs": [],
   "source": [
    "combined_df = reduce(\n",
    "    merge_strategy,\n",
    "    processed_dfs,\n",
    "    pd.DataFrame(columns=keep_cols)\n",
    ")\n",
    "\n",
    "BINNED_DIR = \"/fs/cbsuhy02/storage/yz2676/STARR/data/binned_regions\"\n",
    "combined_df.to_csv(f\"{BINNED_DIR}/count_mat_sorted.bed\", sep=\"\\t\", header=False, index=False, compression=\"gzip\")"
   ]
  },
  {
   "cell_type": "code",
   "execution_count": 11,
   "metadata": {},
   "outputs": [],
   "source": [
    "annotated_deseq_file_path = \"/fs/cbsuhy02/storage/yz2676/STARR/data/DESeq/deep_ATAC_STARR/ori_ind/DE_results_annotated.txt\"\n",
    "atac_peak = \"/fs/cbsuhy01/storage/jz855/Reference/K562/KS91_K562_hg38_ASTARRseq_Input.all_reps.masked.union_narrowPeak.q5.bed.gz\""
   ]
  },
  {
   "cell_type": "code",
   "execution_count": 12,
   "metadata": {},
   "outputs": [
    {
     "name": "stdout",
     "output_type": "stream",
     "text": [
      "2407982\n",
      "1613692\n",
      "2139647\n"
     ]
    }
   ],
   "source": [
    "file = pd.read_csv(annotated_deseq_file_path, sep=\"\\t\", header=None)\n",
    "\n",
    "file[\"Length_groups\"] = (file[2]-file[1]).astype(int)\n",
    "\n",
    "file[1] = file[1].astype(int)\n",
    "file[2] = file[2].astype(int)\n",
    "print(len(file))\n",
    "starr = pybedtools.BedTool.from_dataframe(file.iloc[:,:3])\n",
    "atac_peak = pybedtools.BedTool(atac_peak)\n",
    "\n",
    "overlapped_with_ATAC_peak = starr.intersect(atac_peak, f=0.90).to_dataframe().drop_duplicates()\n",
    "print(len(overlapped_with_ATAC_peak))\n",
    "\n",
    "starr_overlapped_with_ATAC_peak = file.rename(columns={0:\"chrom\", 1:\"start\", 2:\"end\", 3: \"strand\", 4: \"activity\"}).merge(overlapped_with_ATAC_peak, on=[\"chrom\", \"start\", \"end\"], how=\"inner\")\n",
    "print(len(starr_overlapped_with_ATAC_peak))"
   ]
  },
  {
   "cell_type": "code",
   "execution_count": 13,
   "metadata": {},
   "outputs": [
    {
     "data": {
      "text/html": [
       "<div>\n",
       "<style scoped>\n",
       "    .dataframe tbody tr th:only-of-type {\n",
       "        vertical-align: middle;\n",
       "    }\n",
       "\n",
       "    .dataframe tbody tr th {\n",
       "        vertical-align: top;\n",
       "    }\n",
       "\n",
       "    .dataframe thead th {\n",
       "        text-align: right;\n",
       "    }\n",
       "</style>\n",
       "<table border=\"1\" class=\"dataframe\">\n",
       "  <thead>\n",
       "    <tr style=\"text-align: right;\">\n",
       "      <th></th>\n",
       "      <th>chrom</th>\n",
       "      <th>start</th>\n",
       "      <th>end</th>\n",
       "      <th>strand</th>\n",
       "      <th>activity</th>\n",
       "      <th>Length_groups</th>\n",
       "    </tr>\n",
       "  </thead>\n",
       "  <tbody>\n",
       "    <tr>\n",
       "      <th>0</th>\n",
       "      <td>chr1</td>\n",
       "      <td>10051</td>\n",
       "      <td>10201</td>\n",
       "      <td>-</td>\n",
       "      <td>0.315901</td>\n",
       "      <td>150</td>\n",
       "    </tr>\n",
       "    <tr>\n",
       "      <th>1</th>\n",
       "      <td>chr1</td>\n",
       "      <td>17251</td>\n",
       "      <td>17601</td>\n",
       "      <td>-</td>\n",
       "      <td>-1.751916</td>\n",
       "      <td>350</td>\n",
       "    </tr>\n",
       "    <tr>\n",
       "      <th>2</th>\n",
       "      <td>chr1</td>\n",
       "      <td>17301</td>\n",
       "      <td>17501</td>\n",
       "      <td>-</td>\n",
       "      <td>-1.811366</td>\n",
       "      <td>200</td>\n",
       "    </tr>\n",
       "    <tr>\n",
       "      <th>3</th>\n",
       "      <td>chr1</td>\n",
       "      <td>17351</td>\n",
       "      <td>17501</td>\n",
       "      <td>+</td>\n",
       "      <td>-4.266583</td>\n",
       "      <td>150</td>\n",
       "    </tr>\n",
       "    <tr>\n",
       "      <th>4</th>\n",
       "      <td>chr1</td>\n",
       "      <td>17401</td>\n",
       "      <td>17551</td>\n",
       "      <td>-</td>\n",
       "      <td>-4.001633</td>\n",
       "      <td>150</td>\n",
       "    </tr>\n",
       "    <tr>\n",
       "      <th>...</th>\n",
       "      <td>...</td>\n",
       "      <td>...</td>\n",
       "      <td>...</td>\n",
       "      <td>...</td>\n",
       "      <td>...</td>\n",
       "      <td>...</td>\n",
       "    </tr>\n",
       "    <tr>\n",
       "      <th>2139642</th>\n",
       "      <td>chrX</td>\n",
       "      <td>156030351</td>\n",
       "      <td>156030701</td>\n",
       "      <td>-</td>\n",
       "      <td>-5.162984</td>\n",
       "      <td>350</td>\n",
       "    </tr>\n",
       "    <tr>\n",
       "      <th>2139643</th>\n",
       "      <td>chrY</td>\n",
       "      <td>11215101</td>\n",
       "      <td>11215351</td>\n",
       "      <td>-</td>\n",
       "      <td>-4.461352</td>\n",
       "      <td>250</td>\n",
       "    </tr>\n",
       "    <tr>\n",
       "      <th>2139644</th>\n",
       "      <td>chrY</td>\n",
       "      <td>11215101</td>\n",
       "      <td>11215401</td>\n",
       "      <td>+</td>\n",
       "      <td>-4.484973</td>\n",
       "      <td>300</td>\n",
       "    </tr>\n",
       "    <tr>\n",
       "      <th>2139645</th>\n",
       "      <td>chrY</td>\n",
       "      <td>11215151</td>\n",
       "      <td>11215351</td>\n",
       "      <td>-</td>\n",
       "      <td>-3.418095</td>\n",
       "      <td>200</td>\n",
       "    </tr>\n",
       "    <tr>\n",
       "      <th>2139646</th>\n",
       "      <td>chrY</td>\n",
       "      <td>11215201</td>\n",
       "      <td>11215351</td>\n",
       "      <td>-</td>\n",
       "      <td>-3.718582</td>\n",
       "      <td>150</td>\n",
       "    </tr>\n",
       "  </tbody>\n",
       "</table>\n",
       "<p>2139647 rows × 6 columns</p>\n",
       "</div>"
      ],
      "text/plain": [
       "        chrom      start        end strand  activity  Length_groups\n",
       "0        chr1      10051      10201      -  0.315901            150\n",
       "1        chr1      17251      17601      - -1.751916            350\n",
       "2        chr1      17301      17501      - -1.811366            200\n",
       "3        chr1      17351      17501      + -4.266583            150\n",
       "4        chr1      17401      17551      - -4.001633            150\n",
       "...       ...        ...        ...    ...       ...            ...\n",
       "2139642  chrX  156030351  156030701      - -5.162984            350\n",
       "2139643  chrY   11215101   11215351      - -4.461352            250\n",
       "2139644  chrY   11215101   11215401      + -4.484973            300\n",
       "2139645  chrY   11215151   11215351      - -3.418095            200\n",
       "2139646  chrY   11215201   11215351      - -3.718582            150\n",
       "\n",
       "[2139647 rows x 6 columns]"
      ]
     },
     "execution_count": 13,
     "metadata": {},
     "output_type": "execute_result"
    }
   ],
   "source": [
    "starr_overlapped_with_ATAC_peak"
   ]
  },
  {
   "cell_type": "code",
   "execution_count": 14,
   "metadata": {},
   "outputs": [],
   "source": [
    "pause_nctrl = starr_overlapped_with_ATAC_peak[starr_overlapped_with_ATAC_peak[\"Length_groups\"].isin([250,300])]\n",
    "tata_nctrl = starr_overlapped_with_ATAC_peak[starr_overlapped_with_ATAC_peak[\"Length_groups\"].isin([250,350])]"
   ]
  },
  {
   "cell_type": "code",
   "execution_count": 15,
   "metadata": {},
   "outputs": [
    {
     "name": "stderr",
     "output_type": "stream",
     "text": [
      "/tmp/ipykernel_3589739/1679405530.py:1: SettingWithCopyWarning: \n",
      "A value is trying to be set on a copy of a slice from a DataFrame.\n",
      "Try using .loc[row_indexer,col_indexer] = value instead\n",
      "\n",
      "See the caveats in the documentation: https://pandas.pydata.org/pandas-docs/stable/user_guide/indexing.html#returning-a-view-versus-a-copy\n",
      "  pause_nctrl[\"Group\"] = \"Pause Region\"\n",
      "/tmp/ipykernel_3589739/1679405530.py:2: SettingWithCopyWarning: \n",
      "A value is trying to be set on a copy of a slice from a DataFrame.\n",
      "Try using .loc[row_indexer,col_indexer] = value instead\n",
      "\n",
      "See the caveats in the documentation: https://pandas.pydata.org/pandas-docs/stable/user_guide/indexing.html#returning-a-view-versus-a-copy\n",
      "  tata_nctrl[\"Group\"] = \"Entire Core Promoter\"\n",
      "/tmp/ipykernel_3589739/1679405530.py:3: SettingWithCopyWarning: \n",
      "A value is trying to be set on a copy of a slice from a DataFrame.\n",
      "Try using .loc[row_indexer,col_indexer] = value instead\n",
      "\n",
      "See the caveats in the documentation: https://pandas.pydata.org/pandas-docs/stable/user_guide/indexing.html#returning-a-view-versus-a-copy\n",
      "  pause_nctrl[\"Category\"] = pause_nctrl[\"Length_groups\"].map({250: \"Partial\", 300: \"Full\"})\n",
      "/tmp/ipykernel_3589739/1679405530.py:4: SettingWithCopyWarning: \n",
      "A value is trying to be set on a copy of a slice from a DataFrame.\n",
      "Try using .loc[row_indexer,col_indexer] = value instead\n",
      "\n",
      "See the caveats in the documentation: https://pandas.pydata.org/pandas-docs/stable/user_guide/indexing.html#returning-a-view-versus-a-copy\n",
      "  tata_nctrl[\"Category\"] = tata_nctrl[\"Length_groups\"].map({250: \"Partial\", 350: \"Full\"})\n"
     ]
    }
   ],
   "source": [
    "pause_nctrl[\"Group\"] = \"Pause Region\"\n",
    "tata_nctrl[\"Group\"] = \"Entire Core Promoter\"\n",
    "pause_nctrl[\"Category\"] = pause_nctrl[\"Length_groups\"].map({250: \"Partial\", 300: \"Full\"})\n",
    "tata_nctrl[\"Category\"] = tata_nctrl[\"Length_groups\"].map({250: \"Partial\", 350: \"Full\"})\n",
    "\n",
    "nctrl = pd.concat([pause_nctrl, tata_nctrl], ignore_index=True)"
   ]
  },
  {
   "cell_type": "code",
   "execution_count": 16,
   "metadata": {},
   "outputs": [
    {
     "name": "stderr",
     "output_type": "stream",
     "text": [
      "/tmp/ipykernel_3589739/138296360.py:36: FutureWarning: The default of observed=False is deprecated and will be changed to True in a future version of pandas. Pass observed=False to retain current behavior or observed=True to adopt the future default and silence this warning.\n",
      "  avg_lengths = df_group.groupby('Category')['Length_groups'].mean().round(0).astype(int)\n",
      "/tmp/ipykernel_3589739/138296360.py:43: UserWarning: set_ticklabels() should only be used with a fixed number of ticks, i.e. after set_ticks() or using a FixedLocator.\n",
      "  ax.set_xticklabels(new_labels,\n",
      "/tmp/ipykernel_3589739/138296360.py:36: FutureWarning: The default of observed=False is deprecated and will be changed to True in a future version of pandas. Pass observed=False to retain current behavior or observed=True to adopt the future default and silence this warning.\n",
      "  avg_lengths = df_group.groupby('Category')['Length_groups'].mean().round(0).astype(int)\n",
      "/tmp/ipykernel_3589739/138296360.py:43: UserWarning: set_ticklabels() should only be used with a fixed number of ticks, i.e. after set_ticks() or using a FixedLocator.\n",
      "  ax.set_xticklabels(new_labels,\n"
     ]
    }
   ],
   "source": [
    "# Define group-specific color palettes\n",
    "group_palettes = {\n",
    "    \"Pause Region\": {\"Full\": '#B6ADFF', \"Partial\": '#DAD6FF'},\n",
    "    \"Entire Core Promoter\": {\"Full\": '#FFADD1', \"Partial\": '#FFD6E8'}  # Example Tata colors\n",
    "}\n",
    "\n",
    "groups = nctrl['Group'].unique()\n",
    "category_order = ['Full', 'Partial']\n",
    "\n",
    "for group in groups:\n",
    "    plt.figure(figsize=(6, 8))\n",
    "    df_group = nctrl[nctrl['Group'] == group].copy()\n",
    "\n",
    "    df_group[\"Category\"] = pd.Categorical(\n",
    "        df_group[\"Category\"], \n",
    "        categories=category_order,  # Use predefined order\n",
    "        ordered=True\n",
    "    )\n",
    "    df_group = df_group.sort_values(\"Category\")  # Physical sort\n",
    "    \n",
    "    # Create violin plot with group-specific colors\n",
    "    ax = sns.violinplot(\n",
    "        x=\"Category\", \n",
    "        y=\"activity\", \n",
    "        hue=\"Category\",\n",
    "        data=df_group,\n",
    "        palette=[group_palettes[group][cat] for cat in category_order],\n",
    "        hue_order=category_order,\n",
    "        linewidth=1.2,\n",
    "        order=category_order,\n",
    "        dodge=False,\n",
    "        legend=False\n",
    "    )\n",
    "    \n",
    "    # Calculate average lengths (rest of code remains the same)\n",
    "    avg_lengths = df_group.groupby('Category')['Length_groups'].mean().round(0).astype(int)\n",
    "    \n",
    "    new_labels = [\n",
    "        f\"{cat}\\n(Avg Length={avg_lengths[cat]}bp)\"\n",
    "        for cat in category_order\n",
    "    ]\n",
    "    \n",
    "    ax.set_xticklabels(new_labels, \n",
    "                      fontsize=14, \n",
    "                      rotation=0, \n",
    "                      ha='center')\n",
    "\n",
    "    # Statistical test code remains unchanged\n",
    "    full_data = df_group[df_group['Category'] == 'Full']['activity']\n",
    "    partial_data = df_group[df_group['Category'] == 'Partial']['activity']\n",
    "    \n",
    "    if not full_data.empty and not partial_data.empty:\n",
    "        stat, p_value = mannwhitneyu(full_data, partial_data, alternative='greater')\n",
    "        p_text = ('****' if p_value < 0.0001 else\n",
    "                  '***' if p_value < 0.001 else\n",
    "                  '**' if p_value < 0.01 else\n",
    "                  '*' if p_value < 0.05 else 'n.s.')\n",
    "        \n",
    "        y_max = df_group['activity'].max() + 1.5\n",
    "        ax.plot([0, 1], [y_max, y_max], lw=1.5, color='black')\n",
    "        ax.text(0.5, y_max + 0.25, p_text, \n",
    "                ha='center', va='bottom', fontsize=14, color='black')\n",
    "\n",
    "    ax.spines['right'].set_visible(False)\n",
    "    ax.spines['top'].set_visible(False)\n",
    "    plt.title(group, fontsize=20, pad=20)\n",
    "    plt.ylabel('Activity (log2)', fontsize=17)\n",
    "    plt.yticks(fontsize=14)\n",
    "    plt.xlabel('')\n",
    "    \n",
    "    plt.tight_layout(rect=[0, 0, 1, 0.95]) \n",
    "    \n",
    "    save_group = group.replace(' ', '_')\n",
    "    plt.savefig(\n",
    "        f\"{DESIGN_DIR}/Visualization/nctrl_{save_group}.pdf\",\n",
    "        bbox_inches='tight',\n",
    "        dpi=300\n",
    "    )\n",
    "    plt.close()"
   ]
  }
 ],
 "metadata": {
  "kernelspec": {
   "display_name": "STARR",
   "language": "python",
   "name": "python3"
  },
  "language_info": {
   "codemirror_mode": {
    "name": "ipython",
    "version": 3
   },
   "file_extension": ".py",
   "mimetype": "text/x-python",
   "name": "python",
   "nbconvert_exporter": "python",
   "pygments_lexer": "ipython3",
   "version": "3.9.21"
  }
 },
 "nbformat": 4,
 "nbformat_minor": 2
}
